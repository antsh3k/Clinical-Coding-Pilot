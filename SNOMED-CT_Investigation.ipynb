{
 "cells": [
  {
   "cell_type": "markdown",
   "metadata": {},
   "source": [
    "# Exploring a SNOMED-CT Release"
   ]
  },
  {
   "cell_type": "code",
   "execution_count": 257,
   "metadata": {},
   "outputs": [],
   "source": [
    "import pandas as pd\n",
    "import numpy as np\n",
    "import pickle"
   ]
  },
  {
   "cell_type": "code",
   "execution_count": 2,
   "metadata": {},
   "outputs": [],
   "source": [
    "snomed_dir = '/Users/tom/phd/snomed-export' "
   ]
  },
  {
   "cell_type": "code",
   "execution_count": 3,
   "metadata": {},
   "outputs": [],
   "source": [
    "# Use Snapshot, instead of Full, here, as Full contains all historical concepts since 2014. Delta only contains differences from last version.\n",
    "# https://confluence.ihtsdotools.org/display/DOCGLOSS/Snapshot+release"
   ]
  },
  {
   "cell_type": "code",
   "execution_count": 4,
   "metadata": {},
   "outputs": [],
   "source": [
    "base_term = f'{snomed_dir}/uk_sct2cl_28.0.0_20191001000001/'\n",
    "int_terminology = base_term + 'SnomedCT_InternationalRF2_PRODUCTION_20180731T120000Z/Snapshot/Terminology'\n",
    "uk_ext_terminology = base_term + 'SnomedCT_UKClinicalRF2_PRODUCTION_20191001T000001Z/Snapshot/Terminology'"
   ]
  },
  {
   "cell_type": "code",
   "execution_count": 331,
   "metadata": {},
   "outputs": [],
   "source": [
    "def parse_file(filename, first_row_header=True, columns=None):\n",
    "    with open(filename) as f:\n",
    "        entities = [[n.strip() for n in line.split('\\t')] for line in f]\n",
    "        return pd.DataFrame(entities[1:], columns=entities[0] if first_row_header else columns)"
   ]
  },
  {
   "cell_type": "code",
   "execution_count": null,
   "metadata": {},
   "outputs": [],
   "source": [
    "# SNOMED-CT (UK Ed.) is an extension to the Int Ed. Both sets of files (Int. and the UK Ext.) are released as part of one 'UK Release'."
   ]
  },
  {
   "cell_type": "code",
   "execution_count": 16,
   "metadata": {},
   "outputs": [],
   "source": [
    "int_terms = parse_file(f'{int_terminology}/sct2_Concept_Snapshot_INT_20180731.txt')\n",
    "uk_terms = parse_file(f'{uk_ext_terminology}/sct2_Concept_Snapshot_GB1000000_20191001.txt')\n",
    "terms = pd.concat([int_terms, uk_terms])\n",
    "active_terms = terms[terms.active == '1']"
   ]
  },
  {
   "cell_type": "code",
   "execution_count": 17,
   "metadata": {},
   "outputs": [],
   "source": [
    "int_desc = parse_file(f'{int_terminology}/sct2_Description_Snapshot-en_INT_20180731.txt')\n",
    "uk_desc = parse_file(f'{uk_ext_terminology}/sct2_Description_Snapshot-en_GB1000000_20191001.txt')\n",
    "descs = pd.concat([int_desc, uk_desc])\n",
    "active_descs = descs[descs.active == '1']"
   ]
  },
  {
   "cell_type": "code",
   "execution_count": 26,
   "metadata": {},
   "outputs": [],
   "source": [
    "concepts_df = pd.concat(list(rows for cui, rows in active_descs[active_descs.conceptId.isin(active_terms.id)].groupby('conceptId')))"
   ]
  },
  {
   "cell_type": "code",
   "execution_count": 349,
   "metadata": {},
   "outputs": [
    {
     "data": {
      "text/html": [
       "<div>\n",
       "<style scoped>\n",
       "    .dataframe tbody tr th:only-of-type {\n",
       "        vertical-align: middle;\n",
       "    }\n",
       "\n",
       "    .dataframe tbody tr th {\n",
       "        vertical-align: top;\n",
       "    }\n",
       "\n",
       "    .dataframe thead th {\n",
       "        text-align: right;\n",
       "    }\n",
       "</style>\n",
       "<table border=\"1\" class=\"dataframe\">\n",
       "  <thead>\n",
       "    <tr style=\"text-align: right;\">\n",
       "      <th></th>\n",
       "      <th>id</th>\n",
       "      <th>effectiveTime</th>\n",
       "      <th>active</th>\n",
       "      <th>moduleId</th>\n",
       "      <th>conceptId</th>\n",
       "      <th>languageCode</th>\n",
       "      <th>typeId</th>\n",
       "      <th>term</th>\n",
       "      <th>caseSignificanceId</th>\n",
       "      <th>tty</th>\n",
       "    </tr>\n",
       "  </thead>\n",
       "  <tbody>\n",
       "    <tr>\n",
       "      <th>16825</th>\n",
       "      <td>17560015</td>\n",
       "      <td>20020131</td>\n",
       "      <td>1</td>\n",
       "      <td>900000000000207008</td>\n",
       "      <td>10061007</td>\n",
       "      <td>en</td>\n",
       "      <td>900000000000013009</td>\n",
       "      <td>Brain stem contusion without open intracranial...</td>\n",
       "      <td>900000000000020002</td>\n",
       "      <td>NaN</td>\n",
       "    </tr>\n",
       "    <tr>\n",
       "      <th>503876</th>\n",
       "      <td>520861019</td>\n",
       "      <td>20020131</td>\n",
       "      <td>1</td>\n",
       "      <td>900000000000207008</td>\n",
       "      <td>10061007</td>\n",
       "      <td>en</td>\n",
       "      <td>900000000000003001</td>\n",
       "      <td>Brain stem contusion without open intracranial...</td>\n",
       "      <td>900000000000020002</td>\n",
       "      <td>PN</td>\n",
       "    </tr>\n",
       "  </tbody>\n",
       "</table>\n",
       "</div>"
      ],
      "text/plain": [
       "               id effectiveTime active            moduleId conceptId  \\\n",
       "16825    17560015      20020131      1  900000000000207008  10061007   \n",
       "503876  520861019      20020131      1  900000000000207008  10061007   \n",
       "\n",
       "       languageCode              typeId  \\\n",
       "16825            en  900000000000013009   \n",
       "503876           en  900000000000003001   \n",
       "\n",
       "                                                     term  caseSignificanceId  \\\n",
       "16825   Brain stem contusion without open intracranial...  900000000000020002   \n",
       "503876  Brain stem contusion without open intracranial...  900000000000020002   \n",
       "\n",
       "        tty  \n",
       "16825   NaN  \n",
       "503876   PN  "
      ]
     },
     "execution_count": 349,
     "metadata": {},
     "output_type": "execute_result"
    }
   ],
   "source": [
    "concepts_df[concepts_df.conceptId == '10061007']"
   ]
  },
  {
   "cell_type": "code",
   "execution_count": 27,
   "metadata": {},
   "outputs": [],
   "source": [
    "concepts_df['tty'] = concepts_df['typeId'].apply(lambda r: 'PN' if r == '900000000000003001' else np.nan)"
   ]
  },
  {
   "cell_type": "code",
   "execution_count": 29,
   "metadata": {},
   "outputs": [],
   "source": [
    "snomed_cdb_csv = concepts_df.loc[:, ['conceptId', 'term', 'tty']]\n",
    "snomed_cdb_csv['conceptId'] = snomed_cdb_csv.conceptId.apply(lambda code: f'S-{code}')\n",
    "snomed_cdb_csv.columns = ['cui', 'str', 'tty']\n",
    "snomed_cdb_csv['onto'] = 'SNOMED-CT'"
   ]
  },
  {
   "cell_type": "code",
   "execution_count": 30,
   "metadata": {},
   "outputs": [],
   "source": [
    "snomed_cdb_csv.to_csv('snomed_cdb_csv_SNOMED-CT-UK_Release_20191001.csv')"
   ]
  },
  {
   "cell_type": "code",
   "execution_count": 354,
   "metadata": {},
   "outputs": [
    {
     "data": {
      "text/plain": [
       "(963529, 4)"
      ]
     },
     "execution_count": 354,
     "metadata": {},
     "output_type": "execute_result"
    }
   ],
   "source": [
    "snomed_cdb_csv.shape"
   ]
  },
  {
   "cell_type": "code",
   "execution_count": 350,
   "metadata": {},
   "outputs": [
    {
     "data": {
      "text/html": [
       "<div>\n",
       "<style scoped>\n",
       "    .dataframe tbody tr th:only-of-type {\n",
       "        vertical-align: middle;\n",
       "    }\n",
       "\n",
       "    .dataframe tbody tr th {\n",
       "        vertical-align: top;\n",
       "    }\n",
       "\n",
       "    .dataframe thead th {\n",
       "        text-align: right;\n",
       "    }\n",
       "</style>\n",
       "<table border=\"1\" class=\"dataframe\">\n",
       "  <thead>\n",
       "    <tr style=\"text-align: right;\">\n",
       "      <th></th>\n",
       "      <th>cui</th>\n",
       "      <th>str</th>\n",
       "      <th>tty</th>\n",
       "      <th>onto</th>\n",
       "    </tr>\n",
       "  </thead>\n",
       "  <tbody>\n",
       "    <tr>\n",
       "      <th>16825</th>\n",
       "      <td>S-10061007</td>\n",
       "      <td>Brain stem contusion without open intracranial...</td>\n",
       "      <td>NaN</td>\n",
       "      <td>SNOMED-CT</td>\n",
       "    </tr>\n",
       "    <tr>\n",
       "      <th>503876</th>\n",
       "      <td>S-10061007</td>\n",
       "      <td>Brain stem contusion without open intracranial...</td>\n",
       "      <td>PN</td>\n",
       "      <td>SNOMED-CT</td>\n",
       "    </tr>\n",
       "  </tbody>\n",
       "</table>\n",
       "</div>"
      ],
      "text/plain": [
       "               cui                                                str  tty  \\\n",
       "16825   S-10061007  Brain stem contusion without open intracranial...  NaN   \n",
       "503876  S-10061007  Brain stem contusion without open intracranial...   PN   \n",
       "\n",
       "             onto  \n",
       "16825   SNOMED-CT  \n",
       "503876  SNOMED-CT  "
      ]
     },
     "execution_count": 350,
     "metadata": {},
     "output_type": "execute_result"
    }
   ],
   "source": [
    "# Example concept that is 'sourced' from the Int. version - Should match with NHS - SNOMED-CT Browser.\n",
    "snomed_cdb_csv[snomed_cdb_csv.cui == 'S-10061007']"
   ]
  },
  {
   "cell_type": "code",
   "execution_count": 38,
   "metadata": {},
   "outputs": [
    {
     "data": {
      "text/html": [
       "<div>\n",
       "<style scoped>\n",
       "    .dataframe tbody tr th:only-of-type {\n",
       "        vertical-align: middle;\n",
       "    }\n",
       "\n",
       "    .dataframe tbody tr th {\n",
       "        vertical-align: top;\n",
       "    }\n",
       "\n",
       "    .dataframe thead th {\n",
       "        text-align: right;\n",
       "    }\n",
       "</style>\n",
       "<table border=\"1\" class=\"dataframe\">\n",
       "  <thead>\n",
       "    <tr style=\"text-align: right;\">\n",
       "      <th></th>\n",
       "      <th>cui</th>\n",
       "      <th>str</th>\n",
       "      <th>tty</th>\n",
       "      <th>onto</th>\n",
       "    </tr>\n",
       "  </thead>\n",
       "  <tbody>\n",
       "    <tr>\n",
       "      <th>94365</th>\n",
       "      <td>S-865371000000104</td>\n",
       "      <td>No history of epilepsy (situation)</td>\n",
       "      <td>PN</td>\n",
       "      <td>SNOMED-CT</td>\n",
       "    </tr>\n",
       "    <tr>\n",
       "      <th>94366</th>\n",
       "      <td>S-865371000000104</td>\n",
       "      <td>No history of epilepsy</td>\n",
       "      <td>NaN</td>\n",
       "      <td>SNOMED-CT</td>\n",
       "    </tr>\n",
       "    <tr>\n",
       "      <th>94837</th>\n",
       "      <td>S-865371000000104</td>\n",
       "      <td>No H/O epilepsy</td>\n",
       "      <td>NaN</td>\n",
       "      <td>SNOMED-CT</td>\n",
       "    </tr>\n",
       "  </tbody>\n",
       "</table>\n",
       "</div>"
      ],
      "text/plain": [
       "                     cui                                 str  tty       onto\n",
       "94365  S-865371000000104  No history of epilepsy (situation)   PN  SNOMED-CT\n",
       "94366  S-865371000000104              No history of epilepsy  NaN  SNOMED-CT\n",
       "94837  S-865371000000104                     No H/O epilepsy  NaN  SNOMED-CT"
      ]
     },
     "execution_count": 38,
     "metadata": {},
     "output_type": "execute_result"
    }
   ],
   "source": [
    "# Exkey_to_delle concept that is 'sourced' from the UK Ed. - Should match with NHS - SNOMED-CT Browser.\n",
    "snomed_cdb_csv[snomed_cdb_csv.cui == 'S-865371000000104']"
   ]
  },
  {
   "cell_type": "markdown",
   "metadata": {},
   "source": [
    "### Links of SNOMED-CT (UK Edition with the International version), then link back to UMLS for the synonyms"
   ]
  },
  {
   "cell_type": "code",
   "execution_count": null,
   "metadata": {},
   "outputs": [],
   "source": [
    "# Should be able to use previous approach to link SNOMED (Int only) to UMLS terms for the series of synonyms."
   ]
  },
  {
   "cell_type": "markdown",
   "metadata": {},
   "source": [
    "### ICD-10 / OPCS-4 linkages with SNOMED-CT"
   ]
  },
  {
   "cell_type": "code",
   "execution_count": 205,
   "metadata": {},
   "outputs": [],
   "source": [
    "refset_terminology = f'{base_term}/SnomedCT_UKClinicalRF2_PRODUCTION_20191001T000001Z/Snapshot/Refset/Map'"
   ]
  },
  {
   "cell_type": "code",
   "execution_count": 206,
   "metadata": {},
   "outputs": [],
   "source": [
    "mappings = parse_file(f'{refset_terminology}/der2_iisssciRefset_ExtendedMapSnapshot_GB1000000_20191001.txt')\n",
    "mappings = mappings[mappings.active == '1']\n",
    "mappings.referencedComponentId = mappings.referencedComponentId.apply(lambda s: f'S-{s}')"
   ]
  },
  {
   "cell_type": "code",
   "execution_count": 207,
   "metadata": {},
   "outputs": [],
   "source": [
    "mappings.mapPriority = mappings.mapPriority.astype(int)"
   ]
  },
  {
   "cell_type": "code",
   "execution_count": 212,
   "metadata": {},
   "outputs": [],
   "source": [
    "icd10_refset_id = '999002271000000101'\n",
    "opcs4_refset_id = '999002741000000101'"
   ]
  },
  {
   "cell_type": "code",
   "execution_count": 215,
   "metadata": {},
   "outputs": [
    {
     "name": "stdout",
     "output_type": "stream",
     "text": [
      "CPU times: user 5h 7min 53s, sys: 1min 42s, total: 5h 9min 35s\n",
      "Wall time: 5h 10min 30s\n"
     ]
    }
   ],
   "source": [
    "%%time\n",
    "cui2mappings = dict()\n",
    "for cui in snomed_cdb_csv.cui.unique():\n",
    "    cui_map = mappings[mappings.referencedComponentId == cui].loc[:, ['mapPriority', 'mapAdvice', 'mapTarget', 'refsetId']]\n",
    "    if cui_map.shape[0] > 0:\n",
    "        cui2mappings[cui] = cui_map.sort_values('mapPriority')"
   ]
  },
  {
   "cell_type": "code",
   "execution_count": null,
   "metadata": {},
   "outputs": [],
   "source": [
    "opcs_mappings = {}\n",
    "icd10_mappings= {}\n",
    "for cui, mappings in cui2mappings.items():\n",
    "    icd10_codes = mappings[mappings.refsetId == icd10_refset_id]\n",
    "    if icd10_codes.shape[0] > 0:\n",
    "        icd10_mappings[cui] = icd10_codes\n",
    "    opcs_codes = mappings[mappings.refsetId == opcs4_refset_id]\n",
    "    if opcs_codes.shape[0] > 0:\n",
    "        opcs_mappings[cui] = opcs_codes"
   ]
  },
  {
   "cell_type": "code",
   "execution_count": 260,
   "metadata": {},
   "outputs": [],
   "source": [
    "pickle.dump(opcs_mappings, open('opcs_mappings_full.pickle', 'wb'))\n",
    "pickle.dump(icd10_mappings, open('icd10_mappings_full.pickle', 'wb'))"
   ]
  },
  {
   "cell_type": "code",
   "execution_count": 259,
   "metadata": {},
   "outputs": [],
   "source": [
    "# condense mappings to a simple dict representation"
   ]
  },
  {
   "cell_type": "code",
   "execution_count": 272,
   "metadata": {},
   "outputs": [],
   "source": [
    "def condense_mapping(cui2mappings):\n",
    "    mapping_condensed = {}\n",
    "    for cui, mappings in cui2mappings.items():\n",
    "        mapping_condensed[cui] = mappings.mapTarget.replace('(\\w\\d\\d)(\\d*)', r'\\1.\\2', regex=True).tolist()\n",
    "    return mapping_condensed"
   ]
  },
  {
   "cell_type": "code",
   "execution_count": 314,
   "metadata": {},
   "outputs": [],
   "source": [
    "icd10_mapping_condensed = condense_mapping(icd10_mappings)"
   ]
  },
  {
   "cell_type": "code",
   "execution_count": 315,
   "metadata": {},
   "outputs": [],
   "source": [
    "opcs_mapping_condensed = condense_mapping(opcs_mappings)"
   ]
  },
  {
   "cell_type": "code",
   "execution_count": 319,
   "metadata": {},
   "outputs": [],
   "source": [
    "pickle.dump(icd10_mapping_condensed, open('icd10_mapping_condensed.pickle', 'wb'))\n",
    "pickle.dump(opcs_mapping_condensed, open('opcs_mapping_condensed.pickle', 'wb'))"
   ]
  },
  {
   "cell_type": "markdown",
   "metadata": {},
   "source": [
    "### Exploring ICD-10 Release\n",
    "From NHS Digital: https://isd.digital.nhs.uk/trud3/user/authenticated/group/0/pack/1/subpack/258/releases"
   ]
  },
  {
   "cell_type": "code",
   "execution_count": 248,
   "metadata": {},
   "outputs": [],
   "source": [
    "icd10_mapping_filename = '/Users/tom/phd/ICD10_Edition5_20160401/Content/ICD10_Edition5_CodesAndTitlesAndMetadata_GB_20160401.txt'\n",
    "icd10_mapping_detail = parse_file(icd10_mapping_filename)\n",
    "icd10_mapping_detail['full_description'] = icd10_mapping_detail.DESCRIPTION +  icd10_mapping_detail.MODIFIER_4 + icd10_mapping_detail.MODIFIER_5"
   ]
  },
  {
   "cell_type": "code",
   "execution_count": 246,
   "metadata": {},
   "outputs": [
    {
     "data": {
      "text/plain": [
       "3    12604\n",
       "0     4404\n",
       "2      816\n",
       "1       73\n",
       "4       37\n",
       "Name: USAGE_UK, dtype: int64"
      ]
     },
     "execution_count": 246,
     "metadata": {},
     "output_type": "execute_result"
    }
   ],
   "source": [
    "icd10_mapping_detail.USAGE_UK.value_counts()"
   ]
  },
  {
   "cell_type": "code",
   "execution_count": 247,
   "metadata": {},
   "outputs": [
    {
     "data": {
      "text/plain": [
       "DEFAULT     17008\n",
       "ASTERISK      816\n",
       "DAGGER        110\n",
       "Name: USAGE, dtype: int64"
      ]
     },
     "execution_count": 247,
     "metadata": {},
     "output_type": "execute_result"
    }
   ],
   "source": [
    "icd10_mapping_detail.USAGE.value_counts()"
   ]
  },
  {
   "cell_type": "markdown",
   "metadata": {},
   "source": [
    "- 1: absolute dagger, with asterisk(s) in title\n",
    "- 2: absolute asterisk\n",
    "- 3: other (non dagger/asterisk, inclusion dagger or inclusion asterisk)\n",
    "- 4: (absolute) dagger, without asterisk(s) in title See 15.1.2\n",
    "- 0: not applicable (previously expressed as space in ICD-10 Metadata Specification v3.1)"
   ]
  },
  {
   "cell_type": "code",
   "execution_count": 254,
   "metadata": {},
   "outputs": [],
   "source": [
    "icd10_uk_codes = {c: desc for c, desc in zip(icd10_mapping_detail.ALT_CODE, icd10_mapping_detail.full_description)}"
   ]
  },
  {
   "cell_type": "code",
   "execution_count": 321,
   "metadata": {},
   "outputs": [],
   "source": [
    "pickle.dump(icd10_uk_codes, open('icd10_uk_codes.pickle', 'wb'))"
   ]
  },
  {
   "cell_type": "markdown",
   "metadata": {},
   "source": [
    "### Exploring OPCS-4 Mapping Release"
   ]
  },
  {
   "cell_type": "code",
   "execution_count": 334,
   "metadata": {},
   "outputs": [],
   "source": [
    "opcs_filename = '/Users/tom/phd/nhs_opcs4df_8.0.0_20161101000001/OPCS48 CodesAndTitles Nov 2016 V1.0.txt'\n",
    "opcs_desc_df = parse_file(opcs_filename, first_row_header=False, columns=['code', 'desc'])"
   ]
  },
  {
   "cell_type": "code",
   "execution_count": 346,
   "metadata": {},
   "outputs": [],
   "source": [
    "opcs_desc_df = {code: desc for code, desc in zip(opcs_desc_df.code, opcs_desc_df.desc)}"
   ]
  },
  {
   "cell_type": "code",
   "execution_count": 347,
   "metadata": {},
   "outputs": [],
   "source": [
    "pickle.dump(opcs_desc_df, open('opcs_codes_desc.pickle', 'wb'))"
   ]
  }
 ],
 "metadata": {
  "kernelspec": {
   "display_name": "Python [conda env:cattrainer]",
   "language": "python",
   "name": "conda-env-cattrainer-py"
  },
  "language_info": {
   "codemirror_mode": {
    "name": "ipython",
    "version": 3
   },
   "file_extension": ".py",
   "mimetype": "text/x-python",
   "name": "python",
   "nbconvert_exporter": "python",
   "pygments_lexer": "ipython3",
   "version": "3.7.0"
  }
 },
 "nbformat": 4,
 "nbformat_minor": 4
}
