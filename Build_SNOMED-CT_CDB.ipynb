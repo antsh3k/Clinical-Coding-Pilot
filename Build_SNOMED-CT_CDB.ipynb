{
 "cells": [
  {
   "cell_type": "markdown",
   "metadata": {},
   "source": [
    " ## Building a SNOMED-CT MedCAT Concept Database\n",
    " - populating with ICD-10 and OPCS-4 mapped infos"
   ]
  },
  {
   "cell_type": "code",
   "execution_count": 12,
   "metadata": {},
   "outputs": [],
   "source": [
    "from medcat.cdb import CDB\n",
    "from medcat.cat import CAT\n",
    "from medcat.utils.vocab import Vocab\n",
    "from medcat.prepare_cdb import PrepareCDB"
   ]
  },
  {
   "cell_type": "code",
   "execution_count": 13,
   "metadata": {},
   "outputs": [],
   "source": [
    "import os\n",
    "import pandas as pd\n",
    "import pickle"
   ]
  },
  {
   "cell_type": "markdown",
   "metadata": {},
   "source": [
    "## To create a new CDB"
   ]
  },
  {
   "cell_type": "code",
   "execution_count": 14,
   "metadata": {},
   "outputs": [],
   "source": [
    "vocab_dat = '/Users/shek/Desktop/medcat/base_vocabulary.dat'\n",
    "cdb_csv = '/Users/shek/Desktop/medcat/snomed_cdb_csv_SNOMED-CT-full_UK_drug_ext_Release_20200228.csv'"
   ]
  },
  {
   "cell_type": "code",
   "execution_count": 15,
   "metadata": {},
   "outputs": [],
   "source": [
    "snomed_csv = pd.read_csv(cdb_csv)"
   ]
  },
  {
   "cell_type": "code",
   "execution_count": null,
   "metadata": {},
   "outputs": [],
   "source": [
    "%%time\n",
    "vocab = Vocab()\n",
    "vocab.load_dict(vocab_dat)\n",
    "prep = PrepareCDB(vocab=vocab)\n",
    "csv_paths = [cdb_csv]\n",
    "cdb = prep.prepare_csvs(csv_paths)"
   ]
  },
  {
   "cell_type": "code",
   "execution_count": 11,
   "metadata": {},
   "outputs": [],
   "source": [
    "# save the CDB\n",
    "cdb.save_dict('/Users/shek/Desktop/medcat/20191001_snomed_cdb.dat')"
   ]
  },
  {
   "cell_type": "markdown",
   "metadata": {},
   "source": [
    "## To extend a new snomed release to an existing CDB"
   ]
  },
  {
   "cell_type": "code",
   "execution_count": null,
   "metadata": {},
   "outputs": [],
   "source": [
    "# path to old snomed CDB\n",
    "path = r\"/Users/shek/Desktop/medcat/SNOMED_UK/\"\n",
    "file = r\"0.2.9+ SNOMED_CT_UK_wDRUGS_20200228.dat\""
   ]
  },
  {
   "cell_type": "code",
   "execution_count": null,
   "metadata": {},
   "outputs": [],
   "source": [
    "# load old CDB\n",
    "snomed_cdb = CDB()\n",
    "snomed_cdb.load_dict(os.path.join(path,file))"
   ]
  },
  {
   "cell_type": "code",
   "execution_count": null,
   "metadata": {},
   "outputs": [],
   "source": [
    "# load new snomed csv you wish to append\n",
    "csv_path = r\"/Users/shek/Documents/GitHub/SNOMED-CT_Analysis/\"\n",
    "csv_file = r\"snomed_cdb_csv_SNOMED-CT-full_UK_drug_ext_Release_20200401.csv\"\n",
    "snomed_csv = [os.path.join(csv_path, csv_file)]"
   ]
  },
  {
   "cell_type": "code",
   "execution_count": null,
   "metadata": {},
   "outputs": [],
   "source": [
    "prep = PrepareCDB(pretrained_cdb=snomed_cdb) # pass the existing cdb here\n",
    "cdb = prep.prepare_csvs(snomed_csv, only_new=True) # only add new concepts"
   ]
  },
  {
   "cell_type": "code",
   "execution_count": null,
   "metadata": {},
   "outputs": [],
   "source": [
    "# save the new combined CDB\n",
    "cdb.save_dict(os.path.join(csv_path, '0.2.9+ SNOMED_CT_UK_wDRUGS_20200401.cdb'))"
   ]
  },
  {
   "cell_type": "code",
   "execution_count": null,
   "metadata": {},
   "outputs": [],
   "source": [
    "# Check the concepts in the latest edition are present:\n",
    "cdb.cui2original_names[\"S-1240751000000100\"] # replace with cui only in latest edition"
   ]
  },
  {
   "cell_type": "markdown",
   "metadata": {},
   "source": [
    "## Train Model on MIMIC-III Notes"
   ]
  },
  {
   "cell_type": "code",
   "execution_count": null,
   "metadata": {},
   "outputs": [],
   "source": [
    "cat = CAT(cdb=snomed_cdb, vocab=vocab)"
   ]
  },
  {
   "cell_type": "code",
   "execution_count": 32,
   "metadata": {},
   "outputs": [],
   "source": [
    "df = pd.read_csv('~/tdy_ehr/mimic_tidy/data/mimic3/raw/notes_mimic3.csv')\n",
    "all_notes = df.text.tolist()"
   ]
  },
  {
   "cell_type": "code",
   "execution_count": null,
   "metadata": {},
   "outputs": [],
   "source": [
    "%%time\n",
    "for text in all_notes:\n",
    "    cat(text)"
   ]
  },
  {
   "cell_type": "code",
   "execution_count": 61,
   "metadata": {},
   "outputs": [],
   "source": [
    "snomed_cdb.save_dict('./medcat_models/snomed_cdb.dat')"
   ]
  },
  {
   "cell_type": "code",
   "execution_count": 53,
   "metadata": {},
   "outputs": [],
   "source": [
    "cat.train = False"
   ]
  },
  {
   "cell_type": "code",
   "execution_count": 75,
   "metadata": {},
   "outputs": [],
   "source": [
    "cui2icd10_mappings = pickle.load(open('medcat_models/icd10_mapping_condensed.pickle', 'rb'))\n",
    "cui2opcs4_mappings = pickle.load(open('medcat_models/opcs_mapping_condensed.pickle', 'rb'))"
   ]
  },
  {
   "cell_type": "code",
   "execution_count": 109,
   "metadata": {},
   "outputs": [],
   "source": [
    "icd10_descs = pickle.load(open('medcat_models/icd10_uk_codes.pickle', 'rb'))\n",
    "icd10_descs = {key[0:3] + '.' + key[3:] if len(key) > 3 else key: val for key, val in icd10_descs.items()}\n",
    "opcs4_descs = pickle.load(open('medcat_models/opcs_codes_desc.pickle', 'rb'))"
   ]
  },
  {
   "cell_type": "code",
   "execution_count": 136,
   "metadata": {},
   "outputs": [
    {
     "name": "stdout",
     "output_type": "stream",
     "text": [
      "CPU times: user 2.27 s, sys: 217 ms, total: 2.49 s\n",
      "Wall time: 2.48 s\n"
     ]
    }
   ],
   "source": [
    "%%time\n",
    "for cui, icd10codes in cui2icd10_mappings.items():\n",
    "    icd_codes = [{'chapter': icd_code, 'name': icd10_descs[icd_code]} for icd_code in icd10codes if icd_code in icd10_descs]\n",
    "    if cui in snomed_cdb.cui2info:\n",
    "        snomed_cdb.cui2info[cui]['icd10'] = icd_codes\n",
    "for cui, opcs4codes in cui2opcs4_mappings.items():\n",
    "    opcs_codes = [{'code': opcs_code, 'name': opcs4_descs[opcs_code]} for opcs_code in opcs4codes if opcs_code in opcs4_descs]\n",
    "    if cui in snomed_cdb.cui2info:\n",
    "        snomed_cdb.cui2info[cui]['opcs4'] = opcs_codes"
   ]
  },
  {
   "cell_type": "code",
   "execution_count": 145,
   "metadata": {},
   "outputs": [],
   "source": [
    "snomed_cdb.save_dict('./medcat_models/0.2.8+_snomed_cdb_mimic.dat')"
   ]
  },
  {
   "cell_type": "markdown",
   "metadata": {},
   "source": [
    "### Limit CDB to only include ICD-10 / OPCS-4 Concepts"
   ]
  },
  {
   "cell_type": "code",
   "execution_count": 147,
   "metadata": {},
   "outputs": [],
   "source": [
    "cuis_to_keep = [cui for cui in snomed_cdb.cui2names.keys() if 'icd10' in snomed_cdb.cui2info[cui] or 'opcs4' in snomed_cdb.cui2info[cui]]"
   ]
  },
  {
   "cell_type": "code",
   "execution_count": 150,
   "metadata": {},
   "outputs": [
    {
     "name": "stdout",
     "output_type": "stream",
     "text": [
      "FYI - with large CDBs this can take a long time.\n",
      "Gathering CUIs \n",
      "Cleaning up CUI maps...\n",
      "removed 10k concepts, 145809 to go...\n",
      "removed 10k concepts, 135809 to go...\n",
      "removed 10k concepts, 125809 to go...\n",
      "removed 10k concepts, 115809 to go...\n",
      "removed 10k concepts, 105809 to go...\n",
      "removed 10k concepts, 95809 to go...\n",
      "removed 10k concepts, 85809 to go...\n",
      "removed 10k concepts, 75809 to go...\n",
      "removed 10k concepts, 65809 to go...\n",
      "removed 10k concepts, 55809 to go...\n",
      "removed 10k concepts, 45809 to go...\n",
      "removed 10k concepts, 35809 to go...\n",
      "removed 10k concepts, 25809 to go...\n",
      "removed 10k concepts, 15809 to go...\n",
      "removed 10k concepts, 5809 to go...\n",
      "Done CUI cleaning\n",
      "Cleaning names...\n",
      "Done all\n",
      "CPU times: user 2.07 s, sys: 64.8 ms, total: 2.13 s\n",
      "Wall time: 2.13 s\n"
     ]
    }
   ],
   "source": [
    "%%time\n",
    "snomed_cdb.filter_by_cui(cuis_to_keep)"
   ]
  },
  {
   "cell_type": "code",
   "execution_count": 156,
   "metadata": {},
   "outputs": [],
   "source": [
    "snomed_cdb.save_dict('./medcat_models/0.2.8+_snomed_cdb_mimic_icd10_opcs4_only.dat')"
   ]
  }
 ],
 "metadata": {
  "kernelspec": {
   "display_name": "Python 3",
   "language": "python",
   "name": "python3"
  },
  "language_info": {
   "codemirror_mode": {
    "name": "ipython",
    "version": 3
   },
   "file_extension": ".py",
   "mimetype": "text/x-python",
   "name": "python",
   "nbconvert_exporter": "python",
   "pygments_lexer": "ipython3",
   "version": "3.7.6"
  }
 },
 "nbformat": 4,
 "nbformat_minor": 4
}
